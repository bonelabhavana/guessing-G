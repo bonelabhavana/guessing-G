{
 "cells": [
  {
   "cell_type": "code",
   "execution_count": 1,
   "id": "1dc843b6",
   "metadata": {},
   "outputs": [
    {
     "name": "stdout",
     "output_type": "stream",
     "text": [
      "Too high!\n"
     ]
    }
   ],
   "source": [
    "import random\n",
    "\n",
    "def main():\n",
    "    number_to_guess = random.randint(1, 100)\n",
    "    try:\n",
    "        guess = int(input(\"Guess the number between 1 to 100: \"))\n",
    "        if guess < number_to_guess:\n",
    "            print(\"Too low!\")\n",
    "        elif guess > number_to_guess:\n",
    "            print(\"Too high!\")\n",
    "        else:\n",
    "            print(\"Congratulations! You guessed the number.\")\n",
    "    except ValueError:\n",
    "        print(\"Please enter a valid number.\")\n",
    "\n",
    "if __name__ == \"__main__\":\n",
    "    main()\n"
   ]
  }
 ],
 "metadata": {
  "kernelspec": {
   "display_name": "Python 3",
   "language": "python",
   "name": "python3"
  },
  "language_info": {
   "codemirror_mode": {
    "name": "ipython",
    "version": 3
   },
   "file_extension": ".py",
   "mimetype": "text/x-python",
   "name": "python",
   "nbconvert_exporter": "python",
   "pygments_lexer": "ipython3",
   "version": "3.10.5"
  }
 },
 "nbformat": 4,
 "nbformat_minor": 5
}
